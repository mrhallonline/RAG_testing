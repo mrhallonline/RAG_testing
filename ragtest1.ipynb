{
 "cells": [
  {
   "cell_type": "markdown",
   "metadata": {},
   "source": [
    "## 1 Initial Setup\n",
    "Currently using Python 3.12\n",
    "Includes LangSmith for collecting usage information\n",
    "https://docs.smith.langchain.com/"
   ]
  },
  {
   "cell_type": "code",
   "execution_count": null,
   "metadata": {},
   "outputs": [],
   "source": [
    "# Libraries needed\n",
    "%pip install python-dotenv\n",
    "%pip install --quiet --upgrade langchain-text-splitters langchain-community langgraph\n",
    "%pip install -U langchain langchain-openai"
   ]
  },
  {
   "cell_type": "code",
   "execution_count": 8,
   "metadata": {},
   "outputs": [
    {
     "data": {
      "text/plain": [
       "True"
      ]
     },
     "execution_count": 8,
     "metadata": {},
     "output_type": "execute_result"
    }
   ],
   "source": [
    "# Step 1: Import required libraries\n",
    "import os\n",
    "from langchain.embeddings.openai import OpenAIEmbeddings\n",
    "from langchain.vectorstores import Pinecone\n",
    "from langchain.docstore.document import Document\n",
    "from langchain.llms import OpenAI\n",
    "from langchain.chains import RetrievalQA\n",
    "from dotenv import load_dotenv\n",
    "\n",
    "# Load API keys from .env file \n",
    "load_dotenv(override=True)"
   ]
  },
  {
   "cell_type": "code",
   "execution_count": null,
   "metadata": {},
   "outputs": [],
   "source": [
    "# Step 2: Check API KEY\n",
    "import os\n",
    "print(f\"[API KEY]\\n{os.environ['OPENAI_API_KEY']}\")"
   ]
  },
  {
   "cell_type": "markdown",
   "metadata": {},
   "source": [
    "# Initial Test with Open AI\n",
    "Change the llm.invoke string to change query"
   ]
  },
  {
   "cell_type": "code",
   "execution_count": 9,
   "metadata": {},
   "outputs": [
    {
     "data": {
      "text/plain": [
       "AIMessage(content='Why was the graduate student always broke? Because they could never finish a thesis without spending all their money on coffee and ramen noodles!', additional_kwargs={'refusal': None}, response_metadata={'token_usage': {'completion_tokens': 28, 'prompt_tokens': 15, 'total_tokens': 43, 'completion_tokens_details': {'accepted_prediction_tokens': 0, 'audio_tokens': 0, 'reasoning_tokens': 0, 'rejected_prediction_tokens': 0}, 'prompt_tokens_details': {'audio_tokens': 0, 'cached_tokens': 0}}, 'model_name': 'gpt-3.5-turbo-0125', 'system_fingerprint': None, 'id': 'chatcmpl-BCG6S4zXjLuc8Dtwo0cwayxrq84UZ', 'finish_reason': 'stop', 'logprobs': None}, id='run-3d8e1436-1864-4e84-ac07-8964dd9b7bce-0', usage_metadata={'input_tokens': 15, 'output_tokens': 28, 'total_tokens': 43, 'input_token_details': {'audio': 0, 'cache_read': 0}, 'output_token_details': {'audio': 0, 'reasoning': 0}})"
      ]
     },
     "execution_count": 9,
     "metadata": {},
     "output_type": "execute_result"
    }
   ],
   "source": [
    "from langchain_openai import ChatOpenAI\n",
    "\n",
    "llm = ChatOpenAI()\n",
    "llm.invoke(\"Tell me a joke about graduate students.\")"
   ]
  },
  {
   "cell_type": "markdown",
   "metadata": {},
   "source": [
    "## Using other OpenAI models\n",
    "examples: gpt-4o, gpt-4o-mini"
   ]
  },
  {
   "cell_type": "code",
   "execution_count": 10,
   "metadata": {},
   "outputs": [
    {
     "name": "stdout",
     "output_type": "stream",
     "text": [
      "Response: Why don't graduate students play hide and seek?\n",
      "\n",
      "Because good luck hiding when they have to stop and collect data!\n",
      "Model: gpt-4o-mini-2024-07-18\n",
      "Total Tokens Used: 38\n"
     ]
    }
   ],
   "source": [
    "from langchain_openai.chat_models import ChatOpenAI\n",
    "\n",
    "# Create the ChatOpenAI object\n",
    "llm = ChatOpenAI(\n",
    "    temperature=1.5,  # Creativity (range: 0.0 ~ 2.0), larger value, more creative\n",
    "    # max_tokens=100,  # Maximum number of tokens to generate\n",
    "    model_name=\"gpt-4o-mini\",  # Model name\n",
    ")\n",
    "\n",
    "question = \"Tell me a joke about graduate students.\"\n",
    "\n",
    "#print(f\"[Answer]: {llm.invoke(question)}\")\n",
    "\n",
    "# Extract key components\n",
    "response = llm.invoke(question)\n",
    "content = response.content  # AI's response text\n",
    "model_name = response.response_metadata[\"model_name\"]\n",
    "total_tokens = response.response_metadata[\"token_usage\"][\"total_tokens\"]\n",
    "\n",
    "# Print results\n",
    "print(f\"Response: {content}\")\n",
    "print(f\"Model: {model_name}\")\n",
    "print(f\"Total Tokens Used: {total_tokens}\")"
   ]
  }
 ],
 "metadata": {
  "kernelspec": {
   "display_name": "ragtest1-env",
   "language": "python",
   "name": "python3"
  },
  "language_info": {
   "codemirror_mode": {
    "name": "ipython",
    "version": 3
   },
   "file_extension": ".py",
   "mimetype": "text/x-python",
   "name": "python",
   "nbconvert_exporter": "python",
   "pygments_lexer": "ipython3",
   "version": "3.12.9"
  }
 },
 "nbformat": 4,
 "nbformat_minor": 2
}
