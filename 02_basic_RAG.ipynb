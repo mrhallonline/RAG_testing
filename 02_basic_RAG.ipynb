{
 "cells": [
  {
   "cell_type": "markdown",
   "metadata": {},
   "source": [
    "## 0.00 Setup"
   ]
  },
  {
   "cell_type": "code",
   "execution_count": null,
   "metadata": {},
   "outputs": [
    {
     "name": "stdout",
     "output_type": "stream",
     "text": [
      "Collecting PyMuPDF\n",
      "  Downloading pymupdf-1.25.4-cp39-abi3-win_amd64.whl.metadata (3.4 kB)\n",
      "Downloading pymupdf-1.25.4-cp39-abi3-win_amd64.whl (16.6 MB)\n",
      "   ---------------------------------------- 0.0/16.6 MB ? eta -:--:--\n",
      "   ----- ---------------------------------- 2.4/16.6 MB 13.4 MB/s eta 0:00:02\n",
      "   ------------ --------------------------- 5.2/16.6 MB 13.3 MB/s eta 0:00:01\n",
      "   ------------------ --------------------- 7.9/16.6 MB 12.8 MB/s eta 0:00:01\n",
      "   ------------------------- -------------- 10.5/16.6 MB 12.8 MB/s eta 0:00:01\n",
      "   ------------------------------- -------- 13.1/16.6 MB 12.8 MB/s eta 0:00:01\n",
      "   ------------------------------------- -- 15.7/16.6 MB 12.8 MB/s eta 0:00:01\n",
      "   ---------------------------------------- 16.6/16.6 MB 12.6 MB/s eta 0:00:00\n",
      "Installing collected packages: PyMuPDF\n",
      "Successfully installed PyMuPDF-1.25.4\n",
      "Note: you may need to restart the kernel to use updated packages.\n"
     ]
    }
   ],
   "source": [
    "%pip install PyMuPDF\n",
    "%pip install faiss-cpu"
   ]
  },
  {
   "cell_type": "code",
   "execution_count": 19,
   "metadata": {},
   "outputs": [
    {
     "name": "stdout",
     "output_type": "stream",
     "text": [
      "Collecting faiss-cpu\n",
      "  Downloading faiss_cpu-1.10.0-cp312-cp312-win_amd64.whl.metadata (4.5 kB)\n",
      "Requirement already satisfied: numpy<3.0,>=1.25.0 in c:\\users\\mrhal\\anaconda3\\envs\\ragtest1-env\\lib\\site-packages (from faiss-cpu) (2.2.4)\n",
      "Requirement already satisfied: packaging in c:\\users\\mrhal\\anaconda3\\envs\\ragtest1-env\\lib\\site-packages (from faiss-cpu) (24.2)\n",
      "Downloading faiss_cpu-1.10.0-cp312-cp312-win_amd64.whl (13.7 MB)\n",
      "   ---------------------------------------- 0.0/13.7 MB ? eta -:--:--\n",
      "   ------- -------------------------------- 2.6/13.7 MB 13.7 MB/s eta 0:00:01\n",
      "   ---------------- ----------------------- 5.5/13.7 MB 14.0 MB/s eta 0:00:01\n",
      "   ---------------------- ----------------- 7.9/13.7 MB 13.2 MB/s eta 0:00:01\n",
      "   ------------------------------ --------- 10.5/13.7 MB 12.8 MB/s eta 0:00:01\n",
      "   -------------------------------------- - 13.1/13.7 MB 12.8 MB/s eta 0:00:01\n",
      "   ---------------------------------------- 13.7/13.7 MB 12.8 MB/s eta 0:00:00\n",
      "Installing collected packages: faiss-cpu\n",
      "Successfully installed faiss-cpu-1.10.0\n",
      "Note: you may need to restart the kernel to use updated packages.\n"
     ]
    }
   ],
   "source": [
    "%pip install faiss-cpu"
   ]
  },
  {
   "cell_type": "markdown",
   "metadata": {},
   "source": [
    "### Step 0.01 Load libraries and API keys"
   ]
  },
  {
   "cell_type": "code",
   "execution_count": 3,
   "metadata": {},
   "outputs": [
    {
     "data": {
      "text/plain": [
       "True"
      ]
     },
     "execution_count": 3,
     "metadata": {},
     "output_type": "execute_result"
    }
   ],
   "source": [
    "from langchain_text_splitters import RecursiveCharacterTextSplitter\n",
    "from langchain_community.document_loaders import PyMuPDFLoader\n",
    "from langchain_community.vectorstores import FAISS\n",
    "from langchain_core.output_parsers import StrOutputParser\n",
    "from langchain_core.runnables import RunnablePassthrough\n",
    "from langchain_core.prompts import PromptTemplate\n",
    "from langchain_openai import ChatOpenAI, OpenAIEmbeddings\n",
    "\n",
    "from dotenv import load_dotenv\n",
    "\n",
    "# Load API keys from .env file \n",
    "load_dotenv(override=True)"
   ]
  },
  {
   "cell_type": "code",
   "execution_count": null,
   "metadata": {},
   "outputs": [],
   "source": [
    "# Step 0.02: Check API KEY\n",
    "import os\n",
    "print(f\"[API KEY]\\n{os.environ['LANGSMITH_API_KEY']}\")"
   ]
  },
  {
   "cell_type": "markdown",
   "metadata": {},
   "source": [
    "## 1.00 Setup RAG pipeline"
   ]
  },
  {
   "cell_type": "markdown",
   "metadata": {},
   "source": [
    "### 1.01 Load the documents"
   ]
  },
  {
   "cell_type": "code",
   "execution_count": 4,
   "metadata": {},
   "outputs": [
    {
     "name": "stdout",
     "output_type": "stream",
     "text": [
      "Number of pages in the document: 212\n"
     ]
    }
   ],
   "source": [
    "### Load PDF Document\n",
    "loader = PyMuPDFLoader(\"documents/2025_NARST_conference_program_book.pdf\")\n",
    "docs = loader.load()\n",
    "print(f\"Number of pages in the document: {len(docs)}\")"
   ]
  },
  {
   "cell_type": "code",
   "execution_count": 12,
   "metadata": {},
   "outputs": [
    {
     "name": "stdout",
     "output_type": "stream",
     "text": [
      "98th NARST International Conference | Digital Program\n",
      "Chicago, Illinois, Hilton Downtown Chicago\n",
      "Washington, DC\n",
      "March 23 - 26, 2025\n"
     ]
    }
   ],
   "source": [
    "### Check document content\n",
    "# Print the first page content\n",
    "print(docs[0].page_content)"
   ]
  },
  {
   "cell_type": "code",
   "execution_count": null,
   "metadata": {},
   "outputs": [
    {
     "data": {
      "text/plain": [
       "{'id': None,\n",
       " 'metadata': {'producer': 'Adobe PDF Library 17.0',\n",
       "  'creator': 'Adobe InDesign 20.2 (Macintosh)',\n",
       "  'creationdate': '2025-03-14T13:22:13-04:00',\n",
       "  'source': 'documents/2025_NARST_conference_program_book.pdf',\n",
       "  'file_path': 'documents/2025_NARST_conference_program_book.pdf',\n",
       "  'total_pages': 212,\n",
       "  'format': 'PDF 1.6',\n",
       "  'title': '',\n",
       "  'author': '',\n",
       "  'subject': '',\n",
       "  'keywords': '',\n",
       "  'moddate': '2025-03-17T10:04:33-06:00',\n",
       "  'trapped': '',\n",
       "  'modDate': \"D:20250317100433-06'00'\",\n",
       "  'creationDate': \"D:20250314132213-04'00'\",\n",
       "  'page': 3},\n",
       " 'page_content': '98th NARST International Conference     March 23–26, 2025     4\\n98th NARST International Conference\\nGeneral Information\\nGeneral Information\\nInformation about NARST\\nNARST is a global organization for improving science \\nteaching and learning through research. Since its \\ninception in 1928, NARST has promoted research in \\nscience education and the communication of \\nknowledge generated by the research. The ultimate goal \\nof NARST is to help all learners achieve science literacy.\\nThe Association is incorporated as a non-profit \\ncorporation in the State of Minnesota. The official \\npublication is the Journal of Research in Science \\nTeaching (JRST). NARST encourages presentations of \\na wide variety of investigations in all aspects of science \\neducation, including action, historical, philosophical, \\nethnographic, experimental, and evaluative research \\nstudies. Reports of empirical research, critical reviews, \\nand theoretical works are encouraged. In October \\n2010, to reflect the Association’s growing international \\nfocus and membership, the Board approved referring \\nto the Association by its acronym only. At the April 2011 \\nBoard Meeting, the tagline for the Association was \\napproved by the Board. Thus, the Association’s name \\nand tagline is: \\nNARST— A global organization for improving \\nscience education through research. \\nResearch areas of interest to NARST members include \\ncurriculum development and organization, assessment \\nand evaluation, learning theory, teacher education, \\nprograms for exceptional students (special needs and \\ntalents), equity studies, policy, and methods of teaching.\\nNARST Mission Statement\\nNARST is a global organization of professionals \\ncommitted to the improvement of science teaching \\nand learning through research. Since its inception \\nin 1928, NARST has promoted research in science \\neducation and the communication of knowledge \\ngenerated by the research.\\nThe ultimate goal of NARST is to help all learners \\nachieve science literacy. NARST promotes this goal \\nby: 1) encouraging and supporting the application of \\ndiverse research methods and theoretical perspectives \\nfrom multiple disciplines to the investigation of \\nteaching and learning in science; 2) communicating \\nscience education research findings to researchers, \\npractitioners, and policy makers; and 3) cooperating \\nwith other educational and scientific societies to \\ninfluence educational policies.\\nMember Benefits\\n•\\t Ten issues per year of the Journal of Research in \\nScience Teaching (electronic version), with access \\nto JRST online through Wiley InterScience.\\n•\\t Access to the NARST Member Forum. Stay \\nconnected and informed of NARST activities, \\nposition openings, committee and Research Interest \\nGroup events, graduate student events, and more.\\n•\\t Discounted registration rate for the NARST Annual \\nInternational Conference.\\n•\\t Opportunities to apply for scholarships and \\ntravel support.\\n•\\t Access to NARST Virtual Events throughout the \\nyear. We encourage members to propose webinars, \\nworkshops, and other virtual events that align with \\nNARST’s mission. Committees, RIGs, strands, and \\nNARST leadership offer events for members free of \\ncharge.\\n•\\t Opportunities to volunteer for committees and \\nleadership positions.\\n•\\t Opportunities to serve as a mentor for new \\nmembers and early career scholars: \\nSandra K. Abell Institute, \\nMentor/Mentee Nexus, and more.',\n",
       " 'type': 'Document'}"
      ]
     },
     "execution_count": 13,
     "metadata": {},
     "output_type": "execute_result"
    }
   ],
   "source": [
    "### Check metadata of loaded document\n",
    "docs[3].__dict__"
   ]
  },
  {
   "cell_type": "markdown",
   "metadata": {},
   "source": [
    "### 1.02 Document Chunking"
   ]
  },
  {
   "cell_type": "code",
   "execution_count": 14,
   "metadata": {},
   "outputs": [
    {
     "name": "stdout",
     "output_type": "stream",
     "text": [
      "Number of split chunks: 1099\n"
     ]
    }
   ],
   "source": [
    "## Define Chunking Size and Split Documents\n",
    "text_splitter = RecursiveCharacterTextSplitter(chunk_size=500, chunk_overlap=50)\n",
    "split_documents = text_splitter.split_documents(docs)\n",
    "print(f\"Number of split chunks: {len(split_documents)}\")"
   ]
  },
  {
   "cell_type": "markdown",
   "metadata": {},
   "source": [
    "### 1.03 Generate Chunk Embeddings "
   ]
  },
  {
   "cell_type": "code",
   "execution_count": 15,
   "metadata": {},
   "outputs": [],
   "source": [
    "# Generate Embeddings\n",
    "embeddings = OpenAIEmbeddings()"
   ]
  },
  {
   "cell_type": "markdown",
   "metadata": {},
   "source": [
    "### 1.04 Store Embedded Chunks in Vector Database"
   ]
  },
  {
   "cell_type": "code",
   "execution_count": 27,
   "metadata": {},
   "outputs": [],
   "source": [
    "# Create and Save the Database\n",
    "# Create a vector store.\n",
    "vectorstore = FAISS.from_documents(documents=split_documents, embedding=embeddings)"
   ]
  },
  {
   "cell_type": "code",
   "execution_count": null,
   "metadata": {},
   "outputs": [],
   "source": [
    "searchTerm = \"What is the conference theme?\"\n",
    "number_of_results = 3"
   ]
  },
  {
   "cell_type": "code",
   "execution_count": 31,
   "metadata": {},
   "outputs": [
    {
     "name": "stdout",
     "output_type": "stream",
     "text": [
      "from a place of trust and relationship-building? Given \n",
      "that NARST's ultimate goal is to help all learners \n",
      "achieve science literacy, how might we reimagine \n",
      "science literacy with social, environmental, and \n",
      "epistemological justice at its core? \n",
      "This conference theme invites us to share the ways \n",
      "that we can transgress canonical boundaries in \n",
      "science education and expand dialogues on strategies \n",
      "for disrupting structures that sustain inequities, and\n",
      "2025 NARST Annual International Conference, Washington DC \n",
      " \n",
      " \n",
      "44 \n",
      " \n",
      "Strand 14: Environmental Education and \n",
      "Sustainability \n",
      "Stand-Alone Paper \n",
      "Bridging Roles: Educators and High \n",
      "School Graduates’ Sense of Climate \n",
      "Change. \n",
      "Shaima Alokbe*, Ben-Gurion University of \n",
      "the Negev, Israel \n",
      "Areej Nbari*, Ben-Gurion University of the \n",
      "Negev, Israel \n",
      "Wisam Sedawi*, University of Michigan, \n",
      "USA \n",
      "Orit Ben Zvi Assaraf, Ben-Gurion \n",
      "University of the Negev, Israel \n",
      " \n",
      " \n",
      " \n",
      "Closing remarks\n",
      "in the spirit of Bell Hooks, “[envision] new, alternative, \n",
      "oppositional aesthetic acts that both challenge \n",
      "and transcend [given] frameworks and limitations.” \n",
      "This conference is a step toward forging deeper \n",
      "connections between science and social life across \n",
      "formal, informal, and lived contexts—unpacking \n",
      "histories, reimagining relationships with science, and \n",
      "ultimately working toward a scientific endeavor of \n",
      "joyful transgressions and world-building. Together, we\n"
     ]
    }
   ],
   "source": [
    "for doc in vectorstore.similarity_search(searchTerm, k=number_of_results):\n",
    "    # Print the document content\n",
    "    print(doc.page_content)"
   ]
  },
  {
   "cell_type": "markdown",
   "metadata": {},
   "source": [
    "### 1.05 Define Retriever to perform similarity search"
   ]
  },
  {
   "cell_type": "code",
   "execution_count": 32,
   "metadata": {},
   "outputs": [],
   "source": [
    "# Create Retriever\n",
    "# Search and retrieve information contained in the documents.\n",
    "retriever = vectorstore.as_retriever()"
   ]
  },
  {
   "cell_type": "code",
   "execution_count": 33,
   "metadata": {},
   "outputs": [],
   "source": [
    "initial_query = \"What is the conference theme?\""
   ]
  },
  {
   "cell_type": "code",
   "execution_count": 34,
   "metadata": {},
   "outputs": [
    {
     "data": {
      "text/plain": [
       "[Document(id='67d5f200-1da7-4d93-b9e7-d9e0486e5d42', metadata={'producer': 'Adobe PDF Library 17.0', 'creator': 'Adobe InDesign 20.2 (Macintosh)', 'creationdate': '2025-03-14T13:22:13-04:00', 'source': 'documents/2025_NARST_conference_program_book.pdf', 'file_path': 'documents/2025_NARST_conference_program_book.pdf', 'total_pages': 212, 'format': 'PDF 1.6', 'title': '', 'author': '', 'subject': '', 'keywords': '', 'moddate': '2025-03-17T10:04:33-06:00', 'trapped': '', 'modDate': \"D:20250317100433-06'00'\", 'creationDate': \"D:20250314132213-04'00'\", 'page': 33}, page_content=\"from a place of trust and relationship-building? Given \\nthat NARST's ultimate goal is to help all learners \\nachieve science literacy, how might we reimagine \\nscience literacy with social, environmental, and \\nepistemological justice at its core? \\nThis conference theme invites us to share the ways \\nthat we can transgress canonical boundaries in \\nscience education and expand dialogues on strategies \\nfor disrupting structures that sustain inequities, and\"),\n",
       " Document(id='de9f05b7-530d-48cb-b58b-b31b55516bca', metadata={'producer': 'Adobe PDF Library 17.0', 'creator': 'Adobe InDesign 20.2 (Macintosh)', 'creationdate': '2025-03-14T13:22:13-04:00', 'source': 'documents/2025_NARST_conference_program_book.pdf', 'file_path': 'documents/2025_NARST_conference_program_book.pdf', 'total_pages': 212, 'format': 'PDF 1.6', 'title': '', 'author': '', 'subject': '', 'keywords': '', 'moddate': '2025-03-17T10:04:33-06:00', 'trapped': '', 'modDate': \"D:20250317100433-06'00'\", 'creationDate': \"D:20250314132213-04'00'\", 'page': 43}, page_content='2025 NARST Annual International Conference, Washington DC \\n \\n \\n44 \\n \\nStrand 14: Environmental Education and \\nSustainability \\nStand-Alone Paper \\nBridging Roles: Educators and High \\nSchool Graduates’ Sense of Climate \\nChange. \\nShaima Alokbe*, Ben-Gurion University of \\nthe Negev, Israel \\nAreej Nbari*, Ben-Gurion University of the \\nNegev, Israel \\nWisam Sedawi*, University of Michigan, \\nUSA \\nOrit Ben Zvi Assaraf, Ben-Gurion \\nUniversity of the Negev, Israel \\n \\n \\n \\nClosing remarks'),\n",
       " Document(id='fdd40056-bdb7-44b5-b64b-b963acc7e3a1', metadata={'producer': 'Adobe PDF Library 17.0', 'creator': 'Adobe InDesign 20.2 (Macintosh)', 'creationdate': '2025-03-14T13:22:13-04:00', 'source': 'documents/2025_NARST_conference_program_book.pdf', 'file_path': 'documents/2025_NARST_conference_program_book.pdf', 'total_pages': 212, 'format': 'PDF 1.6', 'title': '', 'author': '', 'subject': '', 'keywords': '', 'moddate': '2025-03-17T10:04:33-06:00', 'trapped': '', 'modDate': \"D:20250317100433-06'00'\", 'creationDate': \"D:20250314132213-04'00'\", 'page': 57}, page_content=\"2025 NARST Annual International Conference, Washington DC \\n \\n \\n58 \\n \\nRelated Paper Set \\n'How do these data make you feel?'': \\nEmotional Pathways During Data \\nTalks about Climate Justice \\nImogen Herrick*, University of Kansas, \\nUSA \\nMichael Lawson, Kansas State University, \\nUSA \\nAnanya Matewos, Wilder Foundation, USA \\n \\n \\n \\nNavigating Argumentation and \\nEvidence in Science Education \\nStrand 2: Science Learning: Contexts, \\nCharacteristics and Interactions \\n23-Mar-25, 4:30 PM-6:00 PM\"),\n",
       " Document(id='73254154-2d6c-4049-9ffc-31444fe0d883', metadata={'producer': 'Adobe PDF Library 17.0', 'creator': 'Adobe InDesign 20.2 (Macintosh)', 'creationdate': '2025-03-14T13:22:13-04:00', 'source': 'documents/2025_NARST_conference_program_book.pdf', 'file_path': 'documents/2025_NARST_conference_program_book.pdf', 'total_pages': 212, 'format': 'PDF 1.6', 'title': '', 'author': '', 'subject': '', 'keywords': '', 'moddate': '2025-03-17T10:04:33-06:00', 'trapped': '', 'modDate': \"D:20250317100433-06'00'\", 'creationDate': \"D:20250314132213-04'00'\", 'page': 33}, page_content='in the spirit of Bell Hooks, “[envision] new, alternative, \\noppositional aesthetic acts that both challenge \\nand transcend [given] frameworks and limitations.” \\nThis conference is a step toward forging deeper \\nconnections between science and social life across \\nformal, informal, and lived contexts—unpacking \\nhistories, reimagining relationships with science, and \\nultimately working toward a scientific endeavor of \\njoyful transgressions and world-building. Together, we')]"
      ]
     },
     "execution_count": 34,
     "metadata": {},
     "output_type": "execute_result"
    }
   ],
   "source": [
    "retriever.invoke(initial_query)"
   ]
  },
  {
   "cell_type": "markdown",
   "metadata": {},
   "source": [
    "### 1.06 Create prompt for performing RAG"
   ]
  },
  {
   "cell_type": "code",
   "execution_count": 35,
   "metadata": {},
   "outputs": [],
   "source": [
    "# Create Prompt\n",
    "prompt = PromptTemplate.from_template(\n",
    "    \"\"\"You are a thinking partner for a teacher working to adapt their curricular material. \n",
    "Use the following pieces of retrieved context to answer the question. \n",
    "If you don't know the answer, just say that you don't know. \n",
    "\n",
    "#Context: \n",
    "{context}\n",
    "\n",
    "#Question:\n",
    "{question}\n",
    "\n",
    "#Answer:\"\"\"\n",
    ")"
   ]
  },
  {
   "cell_type": "markdown",
   "metadata": {},
   "source": [
    "### 1.07 Define the LLM"
   ]
  },
  {
   "cell_type": "code",
   "execution_count": 36,
   "metadata": {},
   "outputs": [],
   "source": [
    "# Setup LLM\n",
    "llm = ChatOpenAI(model_name=\"gpt-4o\", temperature=0)"
   ]
  },
  {
   "cell_type": "markdown",
   "metadata": {},
   "source": [
    "### 1.08 Produce Output from Defined Chain"
   ]
  },
  {
   "cell_type": "code",
   "execution_count": 37,
   "metadata": {},
   "outputs": [],
   "source": [
    "# Create Chain\n",
    "chain = (\n",
    "    {\"context\": retriever, \"question\": RunnablePassthrough()}\n",
    "    | prompt\n",
    "    | llm\n",
    "    | StrOutputParser()\n",
    ")"
   ]
  },
  {
   "cell_type": "markdown",
   "metadata": {},
   "source": [
    "### 1.09 Run Chain"
   ]
  },
  {
   "cell_type": "code",
   "execution_count": 42,
   "metadata": {},
   "outputs": [
    {
     "name": "stdout",
     "output_type": "stream",
     "text": [
      "I don't know. The provided context does not include specific information about design principles for adapting a science unit.\n"
     ]
    }
   ],
   "source": [
    "# Run Chain\n",
    "# Input a query about the document and print the response.\n",
    "question = \"What are important design principles to think about when adapting my science unit?\"\n",
    "response = chain.invoke(question)\n",
    "print(response)"
   ]
  },
  {
   "cell_type": "markdown",
   "metadata": {},
   "source": [
    "## 2.00 Combined RAG Code"
   ]
  },
  {
   "cell_type": "code",
   "execution_count": null,
   "metadata": {},
   "outputs": [
    {
     "name": "stdout",
     "output_type": "stream",
     "text": [
      "Loading file: documents\\2025_NARST_conference_program_book.pdf\n",
      "Loaded 212 documents from documents.\n"
     ]
    }
   ],
   "source": [
    "## Step 0: Load Environment Variables\n",
    "import os\n",
    "from dotenv import load_dotenv\n",
    "from langchain_text_splitters import RecursiveCharacterTextSplitter\n",
    "from langchain_community.document_loaders import PyMuPDFLoader\n",
    "from langchain_community.vectorstores import FAISS\n",
    "from langchain_core.output_parsers import StrOutputParser\n",
    "from langchain_core.runnables import RunnablePassthrough\n",
    "from langchain_core.prompts import PromptTemplate\n",
    "from langchain_openai import ChatOpenAI, OpenAIEmbeddings\n",
    "\n",
    "document_path = \"documents\"\n",
    "\n",
    "# Define the root folder that contains your PDFs\n",
    "pdf_folder = document_path  # adjust to your folder path\n",
    "\n",
    "# List to store all loaded documents\n",
    "all_docs = []\n",
    "\n",
    "# Walk through the folder and its subfolders\n",
    "for root, dirs, files in os.walk(pdf_folder):\n",
    "    for file in files:\n",
    "        if file.lower().endswith(\".pdf\"):\n",
    "            file_path = os.path.join(root, file)\n",
    "            print(f\"Loading file: {file_path}\")\n",
    "            loader = PyMuPDFLoader(file_path)\n",
    "            docs = loader.load()  # load returns a list of Document objects (e.g., one per page)\n",
    "            all_docs.extend(docs)\n",
    "\n",
    "print(f\"Loaded {len(all_docs)} documents from {pdf_folder}.\")\n",
    "\n",
    "\n",
    "chunk_size = 500\n",
    "chunk_overlap = 50\n",
    "number_of_chunks = 3\n",
    "\n",
    "question = \"What are important design principles to think about when adapting my science unit?\"\n",
    "model_name =\"gpt-4o\" \n",
    "temperature = 0"
   ]
  },
  {
   "cell_type": "code",
   "execution_count": null,
   "metadata": {},
   "outputs": [],
   "source": [
    "\n",
    "# Step 1: Load Documents\n",
    "# loader = PyMuPDFLoader(document_path)\n",
    "# docs = loader.load()\n",
    "\n",
    "# Step 2: Split Documents\n",
    "text_splitter = RecursiveCharacterTextSplitter(chunk_size=chunk_size, chunk_overlap=chunk_overlap)\n",
    "split_documents = text_splitter.split_documents(docs)\n",
    "\n",
    "# Step 3: Generate Embeddings\n",
    "embeddings = OpenAIEmbeddings()\n",
    "\n",
    "# Step 4: Create and Save the Database\n",
    "# Create a vector store.\n",
    "vectorstore = FAISS.from_documents(documents=split_documents, embedding=embeddings)\n",
    "\n",
    "# Step 5: Create Retriever\n",
    "# Search and retrieve information contained in the documents.\n",
    "retriever = vectorstore.as_retriever()\n",
    "\n",
    "# Step 6: Create Prompt\n",
    "prompt = PromptTemplate.from_template(\n",
    "    \"\"\"You are a thinking partner for a teacher working to adapt their curricular material. \n",
    "Use the following pieces of retrieved context to answer the question. \n",
    "If you don't know the answer, just say that you don't know.  \n",
    "\n",
    "#Context: \n",
    "{context}\n",
    "\n",
    "#Question:\n",
    "{question}\n",
    "\n",
    "#Answer:\"\"\"\n",
    ")\n",
    "\n",
    "# Step 7: Load LLM\n",
    "llm = ChatOpenAI(model_name=model_name, temperature=temperature)\n",
    "\n",
    "# Step 8: Create Chain\n",
    "chain = (\n",
    "    {\"context\": retriever, \"question\": RunnablePassthrough()}\n",
    "    | prompt\n",
    "    | llm\n",
    "    | StrOutputParser()\n",
    ")"
   ]
  },
  {
   "cell_type": "code",
   "execution_count": 49,
   "metadata": {},
   "outputs": [
    {
     "name": "stdout",
     "output_type": "stream",
     "text": [
      "Based on the retrieved context, here are some important design principles to consider when adapting your science unit:\n",
      "\n",
      "1. **Promoting Critical Thinking**: Consider incorporating a newly designed instructional framework that emphasizes critical thinking. This can help students engage more deeply with the material and develop essential analytical skills.\n",
      "\n",
      "2. **Addressing Instructional Shifts**: Be aware of the instructional shifts in science education and support students' sensemaking. This involves helping students understand and make sense of scientific concepts through inquiry-based learning and other student-centered approaches.\n",
      "\n",
      "3. **Incorporating Play and Joyful Methodologies**: Think about integrating play and joyful methodologies into your science learning activities. This can make learning more engaging and enjoyable for students, fostering a positive learning environment.\n",
      "\n",
      "4. **Enacting Care and Inclusivity**: Consider how you can enact care alongside students, teachers, and communities. This involves creating an inclusive classroom environment that values diverse perspectives and experiences.\n",
      "\n",
      "5. **Utilizing Personal Narratives**: Use personal narrative activities to foster a sense of belonging in STEM classrooms. This can help students connect personally with the material and with each other, enhancing their learning experience.\n",
      "\n",
      "6. **Drawing on Student Assets**: Leverage students' existing knowledge and experiences, such as through activities related to food and cooking, to make science more relatable and accessible.\n",
      "\n",
      "These principles can guide you in creating a more effective and engaging science unit that meets the needs of your students.\n"
     ]
    }
   ],
   "source": [
    "# Run Chain\n",
    "# Input a query about the document and print the response.\n",
    "question = question\n",
    "response = chain.invoke(question)\n",
    "print(response)"
   ]
  }
 ],
 "metadata": {
  "kernelspec": {
   "display_name": "ragtest1-env",
   "language": "python",
   "name": "python3"
  },
  "language_info": {
   "codemirror_mode": {
    "name": "ipython",
    "version": 3
   },
   "file_extension": ".py",
   "mimetype": "text/x-python",
   "name": "python",
   "nbconvert_exporter": "python",
   "pygments_lexer": "ipython3",
   "version": "3.12.9"
  }
 },
 "nbformat": 4,
 "nbformat_minor": 2
}
